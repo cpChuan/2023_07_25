{
 "cells": [
  {
   "cell_type": "code",
   "execution_count": null,
   "metadata": {},
   "outputs": [],
   "source": [
    "import random\n",
    "random.randrange(5)     # 0~4的亂數"
   ]
  },
  {
   "cell_type": "code",
   "execution_count": null,
   "metadata": {},
   "outputs": [],
   "source": [
    "random.randrange(3, 5)      # 3, 4"
   ]
  },
  {
   "cell_type": "code",
   "execution_count": 15,
   "metadata": {},
   "outputs": [
    {
     "data": {
      "text/plain": [
       "8"
      ]
     },
     "execution_count": 15,
     "metadata": {},
     "output_type": "execute_result"
    }
   ],
   "source": [
    "import random\n",
    "random.randint(1, 10)       # 1~10"
   ]
  },
  {
   "cell_type": "code",
   "execution_count": 17,
   "metadata": {},
   "outputs": [
    {
     "name": "stdout",
     "output_type": "stream",
     "text": [
      "-----猜數字遊戲-----\n",
      "猜錯了\n",
      "再大\n",
      "猜錯了\n",
      "再大\n",
      "猜錯了\n",
      "再大\n",
      "猜錯了\n",
      "再大\n",
      "猜對了！答案是10\n",
      "你總共猜了5次\n",
      "遊戲結束\n"
     ]
    }
   ],
   "source": [
    "import random\n",
    "min = 1\n",
    "max = 10\n",
    "target = random.randint(1, 10)\n",
    "count = 0\n",
    "\n",
    "print(\"-----猜數字遊戲-----\")\n",
    "while True:\n",
    "    keyin = int(input(f\"猜數字的範圍{min} ~ {max}\"))\n",
    "    count += 1\n",
    "    if keyin < min or keyin > 10:\n",
    "        print(\"超出範圍\")\n",
    "    else:\n",
    "        if keyin == target:\n",
    "            print(f\"猜對了！答案是{target}\")\n",
    "            print(f\"你總共猜了{count}次\")\n",
    "            break\n",
    "        else:\n",
    "            print(\"猜錯了\")\n",
    "            if keyin < target:\n",
    "                print(\"再大\")\n",
    "            else:\n",
    "                print(\"再小\")\n",
    "\n",
    "print(\"遊戲結束\")"
   ]
  }
 ],
 "metadata": {
  "kernelspec": {
   "display_name": "Python 3",
   "language": "python",
   "name": "python3"
  },
  "language_info": {
   "codemirror_mode": {
    "name": "ipython",
    "version": 3
   },
   "file_extension": ".py",
   "mimetype": "text/x-python",
   "name": "python",
   "nbconvert_exporter": "python",
   "pygments_lexer": "ipython3",
   "version": "3.10.12"
  },
  "orig_nbformat": 4
 },
 "nbformat": 4,
 "nbformat_minor": 2
}
