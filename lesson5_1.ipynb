{
 "cells": [
  {
   "cell_type": "code",
   "execution_count": 4,
   "metadata": {},
   "outputs": [
    {
     "name": "stdout",
     "output_type": "stream",
     "text": [
      "你的獎金為0\n"
     ]
    }
   ],
   "source": [
    "chinese = int(input(\"請輸入國文分數：\"))\n",
    "math = int(input(\"請輸入數學分數：\"))\n",
    "\n",
    "#巢狀判斷\n",
    "bonus = 0\n",
    "if chinese == 100:\n",
    "    if math == 100:\n",
    "        bonus = 1000\n",
    "    else:\n",
    "        bonus = 500\n",
    "elif math == 100:\n",
    "        bonus = 500\n",
    "\n",
    "print(f\"你的獎金為{bonus}\")\n"
   ]
  },
  {
   "cell_type": "code",
   "execution_count": 5,
   "metadata": {},
   "outputs": [
    {
     "name": "stdout",
     "output_type": "stream",
     "text": [
      "你的獎金為500\n"
     ]
    }
   ],
   "source": [
    "chinese = int(input(\"請輸入國文分數：\"))\n",
    "math = int(input(\"請輸入數學分數：\"))\n",
    "\n",
    "#使用邏輯運算子\n",
    "bonus = 0\n",
    "if chinese == 100 and math == 100:\n",
    "    bonus = 1000\n",
    "elif chinese == 100 or math == 100:\n",
    "    bonus = 500\n",
    "\n",
    "print(f\"你的獎金為{bonus}\")"
   ]
  },
  {
   "cell_type": "code",
   "execution_count": 6,
   "metadata": {},
   "outputs": [
    {
     "name": "stdout",
     "output_type": "stream",
     "text": [
      "血壓正常\n"
     ]
    }
   ],
   "source": [
    "pressure = int(input(\"請輸入血壓值：\"))\n",
    "\n",
    "if pressure < 80 or pressure > 120:\n",
    "    print(\"血壓不正常\")\n",
    "else:\n",
    "    print(\"血壓正常\")"
   ]
  },
  {
   "cell_type": "code",
   "execution_count": 12,
   "metadata": {},
   "outputs": [
    {
     "name": "stdout",
     "output_type": "stream",
     "text": [
      "你的BMI值是：19.38\n",
      "體重正常\n"
     ]
    }
   ],
   "source": [
    "#BMI計算後分析\n",
    "height = int(input(\"請輸入身高(公分)：\"))\n",
    "weight = int(input(\"請輸入體重(公斤)：\"))\n",
    "\n",
    "BMI = float(weight / (float(height / 100)) ** 2)\n",
    "print(f\"你的BMI值是：{BMI:.2f}\")\n",
    "\n",
    "suggest = \"\"\n",
    "if BMI < 18.5:\n",
    "    suggest = \"體重過輕\"\n",
    "elif BMI < 24:\n",
    "    suggest = \"體重正常\"\n",
    "else:\n",
    "    suggest = \"體重過重\"\n",
    "\n",
    "print(suggest)"
   ]
  }
 ],
 "metadata": {
  "kernelspec": {
   "display_name": "Python 3",
   "language": "python",
   "name": "python3"
  },
  "language_info": {
   "codemirror_mode": {
    "name": "ipython",
    "version": 3
   },
   "file_extension": ".py",
   "mimetype": "text/x-python",
   "name": "python",
   "nbconvert_exporter": "python",
   "pygments_lexer": "ipython3",
   "version": "3.10.12"
  },
  "orig_nbformat": 4
 },
 "nbformat": 4,
 "nbformat_minor": 2
}
