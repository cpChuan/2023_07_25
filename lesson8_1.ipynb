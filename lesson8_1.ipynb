{
 "cells": [
  {
   "cell_type": "code",
   "execution_count": 1,
   "metadata": {},
   "outputs": [
    {
     "data": {
      "text/plain": [
       "('Hello!', 'World!')"
      ]
     },
     "execution_count": 1,
     "metadata": {},
     "output_type": "execute_result"
    }
   ],
   "source": [
    "greeting = \"Hello! World!\"\n",
    "greeting[:6], greeting[-6:]"
   ]
  },
  {
   "cell_type": "code",
   "execution_count": 2,
   "metadata": {},
   "outputs": [
    {
     "data": {
      "text/plain": [
       "str"
      ]
     },
     "metadata": {},
     "output_type": "display_data"
    },
    {
     "data": {
      "text/plain": [
       "'Taipei'"
      ]
     },
     "metadata": {},
     "output_type": "display_data"
    },
    {
     "data": {
      "text/plain": [
       "'taipei'"
      ]
     },
     "execution_count": 2,
     "metadata": {},
     "output_type": "execute_result"
    }
   ],
   "source": [
    "city = \"taipei\"\n",
    "display(type(city))\n",
    "display(city.capitalize())\n",
    "city"
   ]
  },
  {
   "cell_type": "code",
   "execution_count": 3,
   "metadata": {},
   "outputs": [
    {
     "data": {
      "text/plain": [
       "'Penny'"
      ]
     },
     "execution_count": 3,
     "metadata": {},
     "output_type": "execute_result"
    }
   ],
   "source": [
    "name = \"Henny\"\n",
    "name = name.replace(\"H\", \"P\")\n",
    "name"
   ]
  },
  {
   "cell_type": "code",
   "execution_count": 4,
   "metadata": {},
   "outputs": [
    {
     "data": {
      "text/plain": [
       "'Penny'"
      ]
     },
     "execution_count": 4,
     "metadata": {},
     "output_type": "execute_result"
    }
   ],
   "source": [
    "name = \"Henny\"\n",
    "name = \"P\" + name[1:]\n",
    "name"
   ]
  },
  {
   "cell_type": "code",
   "execution_count": 6,
   "metadata": {},
   "outputs": [
    {
     "name": "stdout",
     "output_type": "stream",
     "text": [
      "8\n",
      "-1\n"
     ]
    }
   ],
   "source": [
    "str1 = \"this is Python Tutorial, there\"\n",
    "print(str1.find(\"Python\"))\n",
    "print(str1.find(\"not\"))\n"
   ]
  },
  {
   "cell_type": "code",
   "execution_count": 7,
   "metadata": {},
   "outputs": [
    {
     "data": {
      "text/plain": [
       "'a-b-c-d'"
      ]
     },
     "execution_count": 7,
     "metadata": {},
     "output_type": "execute_result"
    }
   ],
   "source": [
    "str1 = \"-\"\n",
    "\"-\".join(\"abcd\")"
   ]
  },
  {
   "cell_type": "code",
   "execution_count": 9,
   "metadata": {},
   "outputs": [
    {
     "data": {
      "text/plain": [
       "['python', ' java', ' c++', ' ruby']"
      ]
     },
     "execution_count": 9,
     "metadata": {},
     "output_type": "execute_result"
    }
   ],
   "source": [
    "str2 = \"python, java, c++, ruby\"\n",
    "str2.split(sep = \",\")"
   ]
  },
  {
   "cell_type": "code",
   "execution_count": 10,
   "metadata": {},
   "outputs": [
    {
     "name": "stdout",
     "output_type": "stream",
     "text": [
      "請輸入age：\n",
      "Your age is 5.\n"
     ]
    }
   ],
   "source": [
    "print(\"請輸入age：\")\n",
    "age:str = input(\"請輸入age：\") #變數後面可(可不加)加資料型態\n",
    "if not age.isdigit(): #若不是輸入數字\n",
    "    print(\"imput error\")\n",
    "else:\n",
    "    print(f\"Your age is {age}.\")"
   ]
  },
  {
   "cell_type": "code",
   "execution_count": 14,
   "metadata": {},
   "outputs": [
    {
     "name": "stdout",
     "output_type": "stream",
     "text": [
      "               hello\n",
      "hello               \n",
      "       hello         -\n"
     ]
    }
   ],
   "source": [
    "print('hello'.rjust(20))\n",
    "print('hello'.ljust(20))\n",
    "print('hello'.center(20), '-')"
   ]
  },
  {
   "cell_type": "code",
   "execution_count": 15,
   "metadata": {},
   "outputs": [
    {
     "name": "stdout",
     "output_type": "stream",
     "text": [
      "-----BREAKFAST------\n",
      "sandwich.......   25\n",
      "ham and egg....   15\n"
     ]
    }
   ],
   "source": [
    "print(\"BREAKFAST\".center(20, \"-\"))\n",
    "print(\"sandwich\".ljust(15, \".\") + \"25\".rjust(5))\n",
    "print(\"ham and egg\".ljust(15, \".\") + \"15\".rjust(5))"
   ]
  },
  {
   "cell_type": "code",
   "execution_count": 23,
   "metadata": {},
   "outputs": [
    {
     "name": "stdout",
     "output_type": "stream",
     "text": [
      "Your phone number is 0111-111-111.\n"
     ]
    }
   ],
   "source": [
    "def isPhoneNumber(text:str) -> bool:\n",
    "    if len(phone_num) != 12:\n",
    "        return False\n",
    "    elif not text[:4].isdigit() or not text[5:8].isdigit() or not text[-3:].isdigit():\n",
    "        return False\n",
    "    elif text[4] != \"-\" or text[8] != \"-\":\n",
    "        return False\n",
    "    \n",
    "    return True\n",
    "\n",
    "phone_num = input(\"Please enter your phone number(xxxx-xxx-xxx)\")\n",
    "if isPhoneNumber(phone_num):\n",
    "    print(f\"Your phone number is {phone_num}.\")\n",
    "else:\n",
    "    print(\"Wrong format.\")"
   ]
  },
  {
   "cell_type": "code",
   "execution_count": 24,
   "metadata": {},
   "outputs": [
    {
     "name": "stdout",
     "output_type": "stream",
     "text": [
      "Your phone number is 0111-111-111.\n"
     ]
    }
   ],
   "source": [
    "import re\n",
    "def isPhoneNumber(text:str) -> bool:\n",
    "    phoneNumRegex = re.compile(r'\\d\\d\\d\\d-\\d\\d\\d-\\d\\d\\d')\n",
    "    if phoneNumRegex.match(text) is None: #\"None\"要用\"is\"\n",
    "        return False\n",
    "    \n",
    "    return True\n",
    "\n",
    "phone_num = input(\"Please enter your phone number(xxxx-xxx-xxx)\")\n",
    "if isPhoneNumber(phone_num):\n",
    "    print(f\"Your phone number is {phone_num}.\")\n",
    "else:\n",
    "    print(\"Wrong format.\")"
   ]
  },
  {
   "cell_type": "code",
   "execution_count": null,
   "metadata": {},
   "outputs": [],
   "source": []
  }
 ],
 "metadata": {
  "kernelspec": {
   "display_name": "Python 3",
   "language": "python",
   "name": "python3"
  },
  "language_info": {
   "codemirror_mode": {
    "name": "ipython",
    "version": 3
   },
   "file_extension": ".py",
   "mimetype": "text/x-python",
   "name": "python",
   "nbconvert_exporter": "python",
   "pygments_lexer": "ipython3",
   "version": "3.10.12"
  },
  "orig_nbformat": 4
 },
 "nbformat": 4,
 "nbformat_minor": 2
}
