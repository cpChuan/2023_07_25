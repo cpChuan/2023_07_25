{
 "cells": [
  {
   "cell_type": "code",
   "execution_count": 1,
   "metadata": {},
   "outputs": [
    {
     "name": "stdout",
     "output_type": "stream",
     "text": [
      "quack\n"
     ]
    }
   ],
   "source": [
    "def make_a_sound():\n",
    "    print(\"quack\")\n",
    "\n",
    "make_a_sound()"
   ]
  },
  {
   "cell_type": "code",
   "execution_count": 3,
   "metadata": {},
   "outputs": [
    {
     "name": "stdout",
     "output_type": "stream",
     "text": [
      "3 + 8 = 11\n",
      "3 * 8 = 11\n"
     ]
    }
   ],
   "source": [
    "def add(first, second):\n",
    "    print(f\"{first} + {second} = {first + second}\")\n",
    "\n",
    "def multiple(first, second):\n",
    "    print(f\"{first} * {second} = {first + second}\")\n",
    "\n",
    "add(3, 8)\n",
    "multiple(3, 8)"
   ]
  },
  {
   "cell_type": "code",
   "execution_count": 4,
   "metadata": {},
   "outputs": [
    {
     "name": "stdout",
     "output_type": "stream",
     "text": [
      "3 + 8 = 11\n",
      "3 * 8 = 11\n"
     ]
    }
   ],
   "source": [
    "add(first = 3, second = 8)\n",
    "multiple(second = 8, first = 3)"
   ]
  },
  {
   "cell_type": "code",
   "execution_count": 14,
   "metadata": {},
   "outputs": [
    {
     "name": "stdout",
     "output_type": "stream",
     "text": [
      "50到100的質數是：\n"
     ]
    }
   ],
   "source": [
    "def print_prime(first = 1, end = 10):\n",
    "    print(f\"{first}到{end}的質數是：\")\n",
    "    if first < 2:\n",
    "        first = 2\n",
    "\n",
    "    for num in range(first, end + 1):\n",
    "        is_prime = True\n",
    "        for i in range(2, num):\n",
    "            if (num % i) == 0:\n",
    "                is_prime = False\n",
    "\n",
    "    if is_prime:\n",
    "        print(f\"{num} \")\n",
    "\n",
    "first = int(input(\"請輸入first值：\"))\n",
    "end = int(input(\"請輸入end值：\"))\n",
    "print_prime(first, end)"
   ]
  },
  {
   "cell_type": "code",
   "execution_count": 16,
   "metadata": {},
   "outputs": [
    {
     "name": "stdout",
     "output_type": "stream",
     "text": [
      "11\n"
     ]
    }
   ],
   "source": [
    "def add(first, second):\n",
    "    return first + second\n",
    "\n",
    "print(add(3, 8))"
   ]
  },
  {
   "cell_type": "code",
   "execution_count": 17,
   "metadata": {},
   "outputs": [
    {
     "name": "stdout",
     "output_type": "stream",
     "text": [
      "11\n"
     ]
    }
   ],
   "source": [
    "def add1(first:int|float, second:int|float)->int|float:\n",
    "    return first + second\n",
    "\n",
    "print(add1(3, 8))"
   ]
  },
  {
   "cell_type": "code",
   "execution_count": 18,
   "metadata": {},
   "outputs": [
    {
     "name": "stdout",
     "output_type": "stream",
     "text": [
      "a b c d e f g "
     ]
    }
   ],
   "source": [
    "for word in \"abcdefg\":\n",
    "    print(word, end = \" \")"
   ]
  },
  {
   "cell_type": "code",
   "execution_count": 20,
   "metadata": {},
   "outputs": [
    {
     "name": "stdout",
     "output_type": "stream",
     "text": [
      "That is Amy's code.\n"
     ]
    }
   ],
   "source": [
    "words = \"That is Amy's code.\"\n",
    "print(words)"
   ]
  },
  {
   "cell_type": "code",
   "execution_count": 21,
   "metadata": {},
   "outputs": [
    {
     "name": "stdout",
     "output_type": "stream",
     "text": [
      "abc\\n\n"
     ]
    }
   ],
   "source": [
    "print(r\"abc\\n\")"
   ]
  },
  {
   "cell_type": "code",
   "execution_count": 24,
   "metadata": {},
   "outputs": [
    {
     "name": "stdout",
     "output_type": "stream",
     "text": [
      "abcd\n"
     ]
    }
   ],
   "source": [
    "sentence = \"a\\\n",
    "b\\\n",
    "c\\\n",
    "d\"\n",
    "\n",
    "print(sentence)\n"
   ]
  },
  {
   "cell_type": "code",
   "execution_count": 25,
   "metadata": {},
   "outputs": [
    {
     "name": "stdout",
     "output_type": "stream",
     "text": [
      "a\n",
      "b\n",
      "c\n",
      "d\n"
     ]
    }
   ],
   "source": [
    "sentence2 = '''a\n",
    "b\n",
    "c\n",
    "d'''\n",
    "\n",
    "print(sentence2)"
   ]
  },
  {
   "cell_type": "code",
   "execution_count": 26,
   "metadata": {},
   "outputs": [
    {
     "name": "stdout",
     "output_type": "stream",
     "text": [
      "a\n",
      "d\n"
     ]
    }
   ],
   "source": [
    "letter = \"abcd\"\n",
    "\n",
    "print(letter[0])\n",
    "print(letter[len(letter) - 1])"
   ]
  },
  {
   "cell_type": "code",
   "execution_count": 27,
   "metadata": {},
   "outputs": [
    {
     "name": "stdout",
     "output_type": "stream",
     "text": [
      "H\n",
      "d\n",
      "ello Wo\n",
      "Hello\n",
      "Hello\n",
      "Worl\n",
      "World\n"
     ]
    }
   ],
   "source": [
    "greeting = \"Hello World\"\n",
    "print(greeting[0])\n",
    "print(greeting[-1])\n",
    "print(greeting[1:8])\n",
    "print(greeting[0:5])\n",
    "print(greeting[:5])\n",
    "print(greeting[-5:-1])\n",
    "print(greeting[-5:])"
   ]
  }
 ],
 "metadata": {
  "kernelspec": {
   "display_name": "Python 3",
   "language": "python",
   "name": "python3"
  },
  "language_info": {
   "codemirror_mode": {
    "name": "ipython",
    "version": 3
   },
   "file_extension": ".py",
   "mimetype": "text/x-python",
   "name": "python",
   "nbconvert_exporter": "python",
   "pygments_lexer": "ipython3",
   "version": "3.10.12"
  },
  "orig_nbformat": 4
 },
 "nbformat": 4,
 "nbformat_minor": 2
}
