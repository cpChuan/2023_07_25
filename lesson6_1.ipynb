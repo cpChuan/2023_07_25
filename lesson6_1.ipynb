{
 "cells": [
  {
   "cell_type": "code",
   "execution_count": 2,
   "metadata": {},
   "outputs": [
    {
     "name": "stdout",
     "output_type": "stream",
     "text": [
      "1\n",
      "2\n",
      "3\n",
      "4\n",
      "5\n"
     ]
    }
   ],
   "source": [
    "num = 1\n",
    "while num < 6:\n",
    "    print(num)\n",
    "    num += 1"
   ]
  },
  {
   "cell_type": "code",
   "execution_count": 6,
   "metadata": {},
   "outputs": [
    {
     "name": "stdout",
     "output_type": "stream",
     "text": [
      "恭喜！存了17個月，已經存夠了，總存款為44100元\n"
     ]
    }
   ],
   "source": [
    "motoPrice = 30000\n",
    "deposit = 0\n",
    "month = 0\n",
    "totalMonth = 0\n",
    "while deposit < 30000:\n",
    "    month += 1\n",
    "    totalMonth += 1\n",
    "    if month > 12:\n",
    "        month = 1\n",
    "    save = int(input(f\"請輸入{month}月份的存款是：\"))\n",
    "    deposit += save\n",
    "\n",
    "print(f\"恭喜！存了{totalMonth}個月，已經存夠了，總存款為{deposit}元\")"
   ]
  },
  {
   "cell_type": "code",
   "execution_count": 7,
   "metadata": {},
   "outputs": [
    {
     "name": "stdout",
     "output_type": "stream",
     "text": [
      "1\n",
      "2\n",
      "3\n",
      "4\n",
      "5\n"
     ]
    }
   ],
   "source": [
    "count = 1\n",
    "while True:\n",
    "    print(count)\n",
    "    count += 1\n",
    "    if count > 5:\n",
    "        break"
   ]
  },
  {
   "cell_type": "code",
   "execution_count": null,
   "metadata": {},
   "outputs": [],
   "source": [
    "motoPrice = 30000\n",
    "deposit = 0\n",
    "month = 0\n",
    "totalMonth = 0\n",
    "while True:\n",
    "    month += 1\n",
    "    totalMonth += 1\n",
    "    if month > 12:\n",
    "        month = 1\n",
    "    save = int(input(f\"請輸入{month}月份的存款是：\"))\n",
    "    deposit += save\n",
    "    if deposit > 30000:\n",
    "        break\n",
    "\n",
    "print(f\"恭喜！存了{totalMonth}個月，已經存夠了，總存款為{deposit}元\")"
   ]
  },
  {
   "cell_type": "code",
   "execution_count": 8,
   "metadata": {},
   "outputs": [
    {
     "name": "stdout",
     "output_type": "stream",
     "text": [
      "輸入次數1次，正偶數的加總為0\n"
     ]
    }
   ],
   "source": [
    "sum = 0\n",
    "num = 0\n",
    "while True:\n",
    "    num += 1\n",
    "    inputValue = int(input(f\"請輸入第{num}個數值：\"))\n",
    "    if inputValue < 0:\n",
    "        break\n",
    "    elif inputValue % 2  == 0:\n",
    "        sum += inputValue\n",
    "\n",
    "print(f\"輸入次數{num}次，正偶數的加總為{sum}\")"
   ]
  }
 ],
 "metadata": {
  "kernelspec": {
   "display_name": "Python 3",
   "language": "python",
   "name": "python3"
  },
  "language_info": {
   "codemirror_mode": {
    "name": "ipython",
    "version": 3
   },
   "file_extension": ".py",
   "mimetype": "text/x-python",
   "name": "python",
   "nbconvert_exporter": "python",
   "pygments_lexer": "ipython3",
   "version": "3.10.12"
  },
  "orig_nbformat": 4
 },
 "nbformat": 4,
 "nbformat_minor": 2
}
