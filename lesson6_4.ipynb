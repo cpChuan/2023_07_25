{
 "cells": [
  {
   "cell_type": "code",
   "execution_count": 1,
   "metadata": {},
   "outputs": [
    {
     "name": "stdout",
     "output_type": "stream",
     "text": [
      "-----猜數字遊戲-----\n",
      "猜錯了\n",
      "再大\n",
      "猜錯了\n",
      "再大\n",
      "猜錯了\n",
      "再小\n",
      "猜錯了\n",
      "再小\n",
      "猜對了！答案是6\n",
      "你總共猜了5次\n",
      "遊戲結束\n",
      "猜錯了\n",
      "再大\n"
     ]
    },
    {
     "ename": "ValueError",
     "evalue": "invalid literal for int() with base 10: ''",
     "output_type": "error",
     "traceback": [
      "\u001b[0;31m---------------------------------------------------------------------------\u001b[0m",
      "\u001b[0;31mValueError\u001b[0m                                Traceback (most recent call last)",
      "Cell \u001b[0;32mIn[1], line 11\u001b[0m\n\u001b[1;32m      9\u001b[0m \u001b[39mwhile\u001b[39;00m judge:\n\u001b[1;32m     10\u001b[0m     \u001b[39mwhile\u001b[39;00m \u001b[39mTrue\u001b[39;00m:\n\u001b[0;32m---> 11\u001b[0m         keyin \u001b[39m=\u001b[39m \u001b[39mint\u001b[39;49m(\u001b[39minput\u001b[39;49m(\u001b[39mf\u001b[39;49m\u001b[39m\"\u001b[39;49m\u001b[39m猜數字的範圍\u001b[39;49m\u001b[39m{\u001b[39;49;00m\u001b[39mmin\u001b[39;49m\u001b[39m}\u001b[39;49;00m\u001b[39m ~ \u001b[39;49m\u001b[39m{\u001b[39;49;00m\u001b[39mmax\u001b[39;49m\u001b[39m}\u001b[39;49;00m\u001b[39m\"\u001b[39;49m))\n\u001b[1;32m     12\u001b[0m         count \u001b[39m+\u001b[39m\u001b[39m=\u001b[39m \u001b[39m1\u001b[39m\n\u001b[1;32m     13\u001b[0m         \u001b[39mif\u001b[39;00m keyin \u001b[39m<\u001b[39m \u001b[39mmin\u001b[39m \u001b[39mor\u001b[39;00m keyin \u001b[39m>\u001b[39m \u001b[39m10\u001b[39m:\n",
      "\u001b[0;31mValueError\u001b[0m: invalid literal for int() with base 10: ''"
     ]
    }
   ],
   "source": [
    "import random\n",
    "min = 1\n",
    "max = 10\n",
    "target = random.randint(1, 10)\n",
    "count = 0\n",
    "\n",
    "print(\"-----猜數字遊戲-----\")\n",
    "judge = True\n",
    "while judge:\n",
    "    while True:\n",
    "        keyin = int(input(f\"猜數字的範圍{min} ~ {max}\"))\n",
    "        count += 1\n",
    "        if keyin < min or keyin > 10:\n",
    "            print(\"超出範圍\")\n",
    "        else:\n",
    "            if keyin == target:\n",
    "                print(f\"猜對了！答案是{target}\")\n",
    "                print(f\"你總共猜了{count}次\")\n",
    "                break\n",
    "            else:\n",
    "                print(\"猜錯了\")\n",
    "                if keyin < target:\n",
    "                    print(\"再大\")\n",
    "                else:\n",
    "                    print(\"再小\")\n",
    "\n",
    "    print(\"遊戲結束\")\n",
    "\n",
    "    confirm = input(\"是否再玩一次？(y/n)\")\n",
    "    if confirm == \"n\":\n",
    "        judge = False\n",
    "    elif confirm == \"y\":\n",
    "        continue"
   ]
  },
  {
   "cell_type": "code",
   "execution_count": null,
   "metadata": {},
   "outputs": [],
   "source": [
    "judge = True\n",
    "while judge:\n",
    "    confirm = input(\"是否再玩一次？(y/n)\")\n",
    "    if confirm == \"n\":\n",
    "        judge = False"
   ]
  }
 ],
 "metadata": {
  "kernelspec": {
   "display_name": "Python 3",
   "language": "python",
   "name": "python3"
  },
  "language_info": {
   "codemirror_mode": {
    "name": "ipython",
    "version": 3
   },
   "file_extension": ".py",
   "mimetype": "text/x-python",
   "name": "python",
   "nbconvert_exporter": "python",
   "pygments_lexer": "ipython3",
   "version": "3.10.12"
  },
  "orig_nbformat": 4
 },
 "nbformat": 4,
 "nbformat_minor": 2
}
