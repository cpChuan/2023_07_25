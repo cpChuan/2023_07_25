{
 "cells": [
  {
   "cell_type": "code",
   "execution_count": 6,
   "metadata": {},
   "outputs": [
    {
     "ename": "TypeError",
     "evalue": "Random.choice() got an unexpected keyword argument 'k'",
     "output_type": "error",
     "traceback": [
      "\u001b[0;31m---------------------------------------------------------------------------\u001b[0m",
      "\u001b[0;31mTypeError\u001b[0m                                 Traceback (most recent call last)",
      "Cell \u001b[0;32mIn[6], line 12\u001b[0m\n\u001b[1;32m     10\u001b[0m     names_txt \u001b[39m=\u001b[39m (file\u001b[39m.\u001b[39mread())\n\u001b[1;32m     11\u001b[0m     all_name_list \u001b[39m=\u001b[39m names_txt\u001b[39m.\u001b[39msplit(sep\u001b[39m=\u001b[39m\u001b[39m\"\u001b[39m\u001b[39m\\n\u001b[39;00m\u001b[39m\"\u001b[39m)\n\u001b[0;32m---> 12\u001b[0m     names_list \u001b[39m=\u001b[39m random\u001b[39m.\u001b[39;49mchoice(all_name_list, k\u001b[39m=\u001b[39;49mnums)\n\u001b[1;32m     13\u001b[0m \u001b[39mprint\u001b[39m(names_list)\n\u001b[1;32m     15\u001b[0m students \u001b[39m=\u001b[39m []\n",
      "\u001b[0;31mTypeError\u001b[0m: Random.choice() got an unexpected keyword argument 'k'"
     ]
    }
   ],
   "source": [
    "import random\n",
    "def get_score() -> list:\n",
    "    score = []\n",
    "    for i in range(5):\n",
    "        score.append(random.randint(50, 100))\n",
    "    return score\n",
    "\n",
    "nums = int(input(\"請輸入學生數：\"))\n",
    "with open('name.txt', encoding='utf-8', newline='') as file:\n",
    "    names_txt = (file.read())\n",
    "    all_name_list = names_txt.split(sep=\"\\n\")\n",
    "    names_list = random.choice(all_name_list, k=nums)\n",
    "print(names_list)\n",
    "\n",
    "students = []\n",
    "for _ in range(nums):\n",
    "    scores = get_score()\n",
    "    students.append(scores)\n",
    "students"
   ]
  }
 ],
 "metadata": {
  "kernelspec": {
   "display_name": "Python 3",
   "language": "python",
   "name": "python3"
  },
  "language_info": {
   "codemirror_mode": {
    "name": "ipython",
    "version": 3
   },
   "file_extension": ".py",
   "mimetype": "text/x-python",
   "name": "python",
   "nbconvert_exporter": "python",
   "pygments_lexer": "ipython3",
   "version": "3.10.12"
  },
  "orig_nbformat": 4
 },
 "nbformat": 4,
 "nbformat_minor": 2
}
