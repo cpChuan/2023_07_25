{
 "cells": [
  {
   "cell_type": "code",
   "execution_count": 2,
   "metadata": {},
   "outputs": [
    {
     "name": "stdout",
     "output_type": "stream",
     "text": [
      "The student's score level is F.\n"
     ]
    }
   ],
   "source": [
    "#90~100 is \"A\"\n",
    "#80~89 is \"B\"\n",
    "#70~79 is \"C\"\n",
    "#60~69 is \"D\"\n",
    "#0~59 is \"F\"\n",
    "\n",
    "score = int(input(\"Please enter student's score: \"))\n",
    "if score >= 90:\n",
    "    grade = \"A\"\n",
    "elif score >= 80 and score <= 89:\n",
    "    grade = \"B\"\n",
    "elif score >= 70 and score <= 79:\n",
    "    grade = \"C\"\n",
    "elif score >= 60 and score <= 69:\n",
    "    grade = \"D\"\n",
    "else:\n",
    "    grade = \"F\"\n",
    "\n",
    "print(f\"The student's score level is {grade}.\")"
   ]
  },
  {
   "cell_type": "code",
   "execution_count": null,
   "metadata": {},
   "outputs": [],
   "source": [
    "money = int(input(\"Please enter the purchase amount: \"))\n",
    "payMoney = 0\n",
    "if money >= 100000:\n",
    "    payMoney = money * 0.8\n",
    "elif money >= 5000:\n",
    "    payMoney = money * 0.85\n",
    "elif money >= 3000:\n",
    "    payMoney = money * 0.9\n",
    "elif money >= 1000:\n",
    "    payMoney = money * 0.95\n",
    "else:\n",
    "    payMoney = money\n",
    "\n",
    "print(f\"{payMoney}\")"
   ]
  },
  {
   "cell_type": "code",
   "execution_count": 7,
   "metadata": {},
   "outputs": [
    {
     "name": "stdout",
     "output_type": "stream",
     "text": [
      "Universal\n"
     ]
    }
   ],
   "source": [
    "age = input(\"Please enter your age: \")\n",
    "rating = \"\"\n",
    "\n",
    "if age == \"\" or int(age) <= 12:\n",
    "    rating = \"Universal\"\n",
    "elif int(age) >= 13 and int(age) <= 17:\n",
    "    rating = \"Tutorial\"\n",
    "else:\n",
    "    rating = \"Restricted\"\n",
    "\n",
    "print(rating)"
   ]
  },
  {
   "cell_type": "code",
   "execution_count": 8,
   "metadata": {},
   "outputs": [
    {
     "name": "stdout",
     "output_type": "stream",
     "text": [
      "add points\n"
     ]
    }
   ],
   "source": [
    "add = input(\"Whether to add points:(y, n)\")\n",
    "if not(add == \"n\"):\n",
    "    print(\"add points\")\n",
    "else:\n",
    "    print(\"no extra points\")"
   ]
  }
 ],
 "metadata": {
  "kernelspec": {
   "display_name": "Python 3",
   "language": "python",
   "name": "python3"
  },
  "language_info": {
   "codemirror_mode": {
    "name": "ipython",
    "version": 3
   },
   "file_extension": ".py",
   "mimetype": "text/x-python",
   "name": "python",
   "nbconvert_exporter": "python",
   "pygments_lexer": "ipython3",
   "version": "3.10.12"
  },
  "orig_nbformat": 4
 },
 "nbformat": 4,
 "nbformat_minor": 2
}
